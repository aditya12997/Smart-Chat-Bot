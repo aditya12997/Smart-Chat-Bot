{
 "cells": [
  {
   "cell_type": "code",
   "execution_count": 77,
   "id": "155e93ec",
   "metadata": {},
   "outputs": [],
   "source": [
    "# !pip install nltk"
   ]
  },
  {
   "cell_type": "code",
   "execution_count": 78,
   "id": "310fbcb0",
   "metadata": {},
   "outputs": [],
   "source": [
    "# pip install newspaper3k"
   ]
  },
  {
   "cell_type": "code",
   "execution_count": 79,
   "id": "42ed6415",
   "metadata": {},
   "outputs": [],
   "source": [
    "from newspaper import Article\n",
    "#(Newspaper is a Python module used for extracting and parsing newspaper articles. \n",
    "# Newspaper use advance algorithms with web scraping to extract all the useful text from a website)\n",
    "import random\n",
    "#The random module provides access to functions that allows you to generate random numbers.\n",
    "import string\n",
    "#to process standard Python strings\n",
    "import nltk\n",
    "# NLTK is a standard python library that provides a set of diverse algorithms for NLP    \n",
    "from sklearn.feature_extraction.text import CountVectorizer\n",
    "# CountVectorizer is used to convert a collection of text documents to a vector of term/token counts.    \n",
    "from sklearn.metrics.pairwise  import cosine_similarity\n",
    "#Compute cosine similarity between samples in X and Y    \n",
    "import numpy as np\n",
    "import warnings\n",
    "warnings.filterwarnings(\"ignore\")"
   ]
  },
  {
   "cell_type": "code",
   "execution_count": 80,
   "id": "c53c8682",
   "metadata": {},
   "outputs": [
    {
     "data": {
      "text/plain": [
       "True"
      ]
     },
     "execution_count": 80,
     "metadata": {},
     "output_type": "execute_result"
    }
   ],
   "source": [
    "# Download the Punkt package\n",
    "nltk.download('punkt', quiet=True)"
   ]
  },
  {
   "cell_type": "code",
   "execution_count": 81,
   "id": "1d067409",
   "metadata": {},
   "outputs": [],
   "source": [
    "#Get the article\n",
    "article = Article(\"https://www.mayoclinic.org/diseases-conditions/chronic-kidney-disease/diagnosis-treatment/drc-20354527\")\n",
    "article.download()\n",
    "article.parse()\n",
    "article.nlp()\n",
    "corpus = article.text"
   ]
  },
  {
   "cell_type": "code",
   "execution_count": 82,
   "id": "43fe4a87",
   "metadata": {},
   "outputs": [
    {
     "name": "stdout",
     "output_type": "stream",
     "text": [
      "Nephrologist Andrew Bentall, M.D., answers the most frequently asked questions about kidney disease.\n",
      "\n",
      "Living with diabetes is difficult, thinking about what you eat. But controlling the sugar levels are really important for helping kidney function and specifically slowing down any damage to the kidneys. Newer drugs that have come out in the last couple years can help with this, as well as working with your primary care physician or endocrinologist with your current therapies to get better sugar control.\n",
      "\n",
      "We really want to help your health and so losing weight can be a key component to reducing your risk of progressing with kidney disease. Reducing calorie intake, which is either smaller portions, less snacking in between meals, and then thinking about burning calories with increasing your exercise, are great steps forward in starting that journey towards weight loss.\n",
      "\n",
      "We look to get blood pressure less than 130 systolic, that's the top number. And less than 80 diastolic, that's the bottom number, on blood pressure readings. There are a number of different drugs that we can use to do this. And this will help both with your cardiovascular health, but slowing down any kidney disease progression over time as well.\n",
      "\n",
      "There are two different types of dialysis: hemodialysis, which is done through cleaning the blood through a machine, which you attend a dialysis center three times a week for about four hours each time. It can be done at home in certain circumstances. Or peritoneal dialysis, where fluid gets put into your tummy, takes out the toxins and is drained. And that can be done either during the day or overnight on a machine. The benefits and risks of these are individualized, as some people are able to do the treatment at home or need to go to a treatment center for this. It also depends on your location and how close the nearest dialysis centers are.\n",
      "\n",
      "The kidney transplant works in the same way as your own kidneys do, with the blood coming through the transplant, filtering it and the urine coming out. The kidney transplant is protected by the anti-rejection medication, so your body doesn't attack it. And we leave your own kidneys in because they eventually shrivel down and don't function anymore. You don't want more surgery than you need.\n",
      "\n",
      "For a kidney transplant at the moment, taking anti-rejection drugs is an everyday, lifelong occurrence. These can come with side effects. But current research is looking to try and minimize or come off anti-rejection drugs with specific research protocols at the moment.\n",
      "\n",
      "We really want to partner with you to get the best outcomes for you, so that chronic kidney disease doesn't affect you as much as it can. Controlling your blood pressure and therefore monitoring that at home, taking your medications regularly, and letting us know about side effects is a really important part in partnering and helping you to have a good quality of life living with chronic kidney disease.\n"
     ]
    }
   ],
   "source": [
    "# Print the article text\n",
    "print(corpus)"
   ]
  },
  {
   "cell_type": "code",
   "execution_count": 83,
   "id": "c4485c4e",
   "metadata": {},
   "outputs": [],
   "source": [
    "#Tokenization\n",
    "text = corpus\n",
    "sentence_list = nltk.sent_tokenize(text) # A list of sentences"
   ]
  },
  {
   "cell_type": "code",
   "execution_count": 84,
   "id": "b6b35098",
   "metadata": {},
   "outputs": [
    {
     "data": {
      "text/plain": [
       "['Nephrologist Andrew Bentall, M.D., answers the most frequently asked questions about kidney disease.',\n",
       " 'Living with diabetes is difficult, thinking about what you eat.',\n",
       " 'But controlling the sugar levels are really important for helping kidney function and specifically slowing down any damage to the kidneys.',\n",
       " 'Newer drugs that have come out in the last couple years can help with this, as well as working with your primary care physician or endocrinologist with your current therapies to get better sugar control.',\n",
       " 'We really want to help your health and so losing weight can be a key component to reducing your risk of progressing with kidney disease.',\n",
       " 'Reducing calorie intake, which is either smaller portions, less snacking in between meals, and then thinking about burning calories with increasing your exercise, are great steps forward in starting that journey towards weight loss.',\n",
       " \"We look to get blood pressure less than 130 systolic, that's the top number.\",\n",
       " \"And less than 80 diastolic, that's the bottom number, on blood pressure readings.\",\n",
       " 'There are a number of different drugs that we can use to do this.',\n",
       " 'And this will help both with your cardiovascular health, but slowing down any kidney disease progression over time as well.',\n",
       " 'There are two different types of dialysis: hemodialysis, which is done through cleaning the blood through a machine, which you attend a dialysis center three times a week for about four hours each time.',\n",
       " 'It can be done at home in certain circumstances.',\n",
       " 'Or peritoneal dialysis, where fluid gets put into your tummy, takes out the toxins and is drained.',\n",
       " 'And that can be done either during the day or overnight on a machine.',\n",
       " 'The benefits and risks of these are individualized, as some people are able to do the treatment at home or need to go to a treatment center for this.',\n",
       " 'It also depends on your location and how close the nearest dialysis centers are.',\n",
       " 'The kidney transplant works in the same way as your own kidneys do, with the blood coming through the transplant, filtering it and the urine coming out.',\n",
       " \"The kidney transplant is protected by the anti-rejection medication, so your body doesn't attack it.\",\n",
       " \"And we leave your own kidneys in because they eventually shrivel down and don't function anymore.\",\n",
       " \"You don't want more surgery than you need.\",\n",
       " 'For a kidney transplant at the moment, taking anti-rejection drugs is an everyday, lifelong occurrence.',\n",
       " 'These can come with side effects.',\n",
       " 'But current research is looking to try and minimize or come off anti-rejection drugs with specific research protocols at the moment.',\n",
       " \"We really want to partner with you to get the best outcomes for you, so that chronic kidney disease doesn't affect you as much as it can.\",\n",
       " 'Controlling your blood pressure and therefore monitoring that at home, taking your medications regularly, and letting us know about side effects is a really important part in partnering and helping you to have a good quality of life living with chronic kidney disease.']"
      ]
     },
     "execution_count": 84,
     "metadata": {},
     "output_type": "execute_result"
    }
   ],
   "source": [
    "# Prints the list of sentences\n",
    "sentence_list"
   ]
  },
  {
   "cell_type": "code",
   "execution_count": 85,
   "id": "56059c95",
   "metadata": {},
   "outputs": [],
   "source": [
    "# Function to return a random greeting response to a users greeting.\n",
    "def greeting_response(text):\n",
    "    text = text.lower()\n",
    "    \n",
    "    # bots greeting response\n",
    "    bot_greetings = ['howdy','hi','hey','hello','hola']\n",
    "    # user greetings\n",
    "    user_greetings = ['hi','hey','hello','hola','whats up']\n",
    "    \n",
    "    for word in text.split():\n",
    "        if word in user_greetings:\n",
    "            return random.choice(bot_greetings)"
   ]
  },
  {
   "cell_type": "code",
   "execution_count": 86,
   "id": "6bd4747d",
   "metadata": {},
   "outputs": [],
   "source": [
    "def index_sort(list_var):\n",
    "    lenght = len(list_var)\n",
    "    list_of_indexes = list(range(0, lenght))\n",
    "    \n",
    "    x = list_var\n",
    "    for i in range(lenght):\n",
    "        for j in range(lenght):\n",
    "            if x[list_of_indexes[i]] > x[list_of_indexes[j]]:\n",
    "                #Swap\n",
    "                temp = list_of_indexes[i]\n",
    "                list_of_indexes[i] = list_of_indexes[j]\n",
    "                list_of_indexes[j] = temp\n",
    "    return list_of_indexes"
   ]
  },
  {
   "cell_type": "code",
   "execution_count": 87,
   "id": "65e9fb7d",
   "metadata": {},
   "outputs": [],
   "source": [
    "#Create bots response\n",
    "def bot_response(user_input):\n",
    "    user_input = user_input.lower()\n",
    "    sentence_list.append(user_input)\n",
    "    bot_response = ''\n",
    "    count_matrix = CountVectorizer().fit_transform(sentence_list)\n",
    "    similarity_scores = cosine_similarity(count_matrix[-1],count_matrix)\n",
    "    # ^^Comparing the last sentence in the count matrix that users input to that of the count matrix sentences.\n",
    "    similarity_scores_list = similarity_scores.flatten()\n",
    "    #the process of converting this [[1,2], [3,4]] list to [1,2,3,4] is called flattening\n",
    "    index = index_sort(similarity_scores_list)\n",
    "    index = index[1:]\n",
    "    response_flag = 0\n",
    "    \n",
    "    j = 0\n",
    "    for i in range(len(index)):\n",
    "        if similarity_scores_list[index[i]] > 0.0: # this means that there is similarity\n",
    "            bot_response = bot_response + ' ' + sentence_list[index[i]]\n",
    "            response_flag = 1\n",
    "            j= j + 1\n",
    "        if j >2:\n",
    "            break\n",
    "    if response_flag == 0:\n",
    "        bot_response = bot_response + ' ' + \"I apologise. I don't understand.\"\n",
    "        \n",
    "    sentence_list.remove(user_input)\n",
    "    \n",
    "    return bot_response"
   ]
  },
  {
   "cell_type": "code",
   "execution_count": null,
   "id": "6586b41a",
   "metadata": {},
   "outputs": [
    {
     "name": "stdout",
     "output_type": "stream",
     "text": [
      "Doc Bot: I am Jennie, and I am your Doc Bot to help you. I will respond to all of your questions in the best possible manner, and later connect you with the relavant Doctor. If you wish to exit, type 'bye' \n",
      "How can I help you?hi\n",
      "Jennie: hola\n",
      "How can I help you?can I speak to the doctor?\n",
      "Jennie:  The benefits and risks of these are individualized, as some people are able to do the treatment at home or need to go to a treatment center for this. The kidney transplant works in the same way as your own kidneys do, with the blood coming through the transplant, filtering it and the urine coming out. We really want to partner with you to get the best outcomes for you, so that chronic kidney disease doesn't affect you as much as it can.\n",
      "How can I help you?can I know more on chronic diseases?\n",
      "Jennie:  And that can be done either during the day or overnight on a machine. These can come with side effects. It can be done at home in certain circumstances.\n",
      "How can I help you?is it dangerous?\n",
      "Jennie:  The kidney transplant is protected by the anti-rejection medication, so your body doesn't attack it. It can be done at home in certain circumstances. Living with diabetes is difficult, thinking about what you eat.\n",
      "How can I help you?is it natural?\n",
      "Jennie:  The kidney transplant is protected by the anti-rejection medication, so your body doesn't attack it. It can be done at home in certain circumstances. Living with diabetes is difficult, thinking about what you eat.\n",
      "How can I help you?harmful?\n",
      "Jennie:  I apologise. I don't understand.\n",
      "How can I help you?how to avoid it ?\n",
      "Jennie:  It also depends on your location and how close the nearest dialysis centers are. We really want to partner with you to get the best outcomes for you, so that chronic kidney disease doesn't affect you as much as it can. The benefits and risks of these are individualized, as some people are able to do the treatment at home or need to go to a treatment center for this.\n"
     ]
    }
   ],
   "source": [
    "# Start the Chat\n",
    "print(\"Doc Bot: I am Jennie, and I am your Doc Bot to help you. I will respond to all of your questions in the best possible manner, and later connect you with the relavant Doctor. If you wish to exit, type 'bye' \")\n",
    "\n",
    "exit_list = ['exit', 'See you later','Bye','Quit', 'break']\n",
    "while(True):\n",
    "    user_input = input(\"How can I help you?\")\n",
    "    if user_input.lower() in exit_list:\n",
    "        print(\"Jennie says Bye..\")\n",
    "        break\n",
    "    else:\n",
    "        if greeting_response(user_input) != None:\n",
    "            print('Jennie: ' + greeting_response(user_input))\n",
    "        else:\n",
    "            print(\"Jennie: \" +bot_response(user_input))"
   ]
  },
  {
   "cell_type": "code",
   "execution_count": null,
   "id": "6f1aa2e0",
   "metadata": {},
   "outputs": [],
   "source": []
  },
  {
   "cell_type": "code",
   "execution_count": null,
   "id": "529abce1",
   "metadata": {},
   "outputs": [],
   "source": []
  }
 ],
 "metadata": {
  "kernelspec": {
   "display_name": "Python 3 (ipykernel)",
   "language": "python",
   "name": "python3"
  },
  "language_info": {
   "codemirror_mode": {
    "name": "ipython",
    "version": 3
   },
   "file_extension": ".py",
   "mimetype": "text/x-python",
   "name": "python",
   "nbconvert_exporter": "python",
   "pygments_lexer": "ipython3",
   "version": "3.9.7"
  }
 },
 "nbformat": 4,
 "nbformat_minor": 5
}
